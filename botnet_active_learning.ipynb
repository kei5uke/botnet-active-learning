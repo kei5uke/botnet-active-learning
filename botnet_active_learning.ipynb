{
 "cells": [
  {
   "cell_type": "markdown",
   "id": "7e8a9931",
   "metadata": {},
   "source": [
    "# Active Learning Notebook"
   ]
  },
  {
   "cell_type": "code",
   "execution_count": 157,
   "id": "3c945e37",
   "metadata": {},
   "outputs": [],
   "source": [
    "import random\n",
    "import glob\n",
    "import os\n",
    "import matplotlib as mpl\n",
    "import matplotlib.pyplot as plt\n",
    "import numpy as np\n",
    "import pandas as pd\n",
    "import pickle\n",
    "\n",
    "from sklearn.model_selection import train_test_split\n",
    "from sklearn.metrics import accuracy_score, precision_recall_fscore_support\n",
    "from sklearn.ensemble import RandomForestClassifier as rf\n",
    "\n",
    "from modAL.models import ActiveLearner\n",
    "from modAL.uncertainty import uncertainty_sampling"
   ]
  },
  {
   "cell_type": "markdown",
   "id": "c9235447",
   "metadata": {},
   "source": [
    "## Init config"
   ]
  },
  {
   "cell_type": "code",
   "execution_count": 134,
   "id": "8f90a23a",
   "metadata": {},
   "outputs": [],
   "source": [
    "FILENAME = 'df_pickles/df_180000_20.pkl'\n",
    "MULTICLASS = True\n",
    "QUERY_NUM = 5\n",
    "REPEAT = 2\n",
    "INIT_SEED_PATTERN = [10, 15]\n",
    "POOL_SIZE_PATTERN = [17, 18]"
   ]
  },
  {
   "cell_type": "markdown",
   "id": "d53f7d86",
   "metadata": {},
   "source": [
    "## Data Pre-processing"
   ]
  },
  {
   "cell_type": "code",
   "execution_count": 135,
   "id": "2beb0d04",
   "metadata": {},
   "outputs": [],
   "source": [
    "df = pd.read_pickle(FILENAME)\n",
    "X = df.iloc[:,:df.shape[1]-2]\n",
    "y = df.iloc[:,df.shape[1]-1]"
   ]
  },
  {
   "cell_type": "code",
   "execution_count": 136,
   "id": "f516a179",
   "metadata": {
    "scrolled": true
   },
   "outputs": [
    {
     "data": {
      "text/plain": [
       "0    90000\n",
       "1    30000\n",
       "2    30000\n",
       "3    30000\n",
       "Name: label, dtype: int64"
      ]
     },
     "execution_count": 136,
     "metadata": {},
     "output_type": "execute_result"
    }
   ],
   "source": [
    "df['label'].value_counts()"
   ]
  },
  {
   "cell_type": "code",
   "execution_count": 137,
   "id": "10061cc8",
   "metadata": {},
   "outputs": [],
   "source": [
    "if MULTICLASS == False:\n",
    "    y = y.replace([2,3],1)"
   ]
  },
  {
   "cell_type": "code",
   "execution_count": 138,
   "id": "7fd408b4",
   "metadata": {},
   "outputs": [],
   "source": [
    "X_train, X_test, y_train, y_test = train_test_split(X.to_numpy(),\n",
    "                                                    y.to_numpy(),\n",
    "                                                    test_size=60000,\n",
    "                                                    stratify=y,\n",
    "                                                    random_state=77)"
   ]
  },
  {
   "cell_type": "code",
   "execution_count": 139,
   "id": "e1b9d64d",
   "metadata": {},
   "outputs": [
    {
     "data": {
      "text/plain": [
       "(array([0, 1, 2, 3]), array([60000, 20000, 20000, 20000]))"
      ]
     },
     "execution_count": 139,
     "metadata": {},
     "output_type": "execute_result"
    }
   ],
   "source": [
    "np.unique(y_train, return_counts=True)"
   ]
  },
  {
   "cell_type": "code",
   "execution_count": 140,
   "id": "2c80c60d",
   "metadata": {},
   "outputs": [
    {
     "data": {
      "text/plain": [
       "(array([0, 1, 2, 3]), array([30000, 10000, 10000, 10000]))"
      ]
     },
     "execution_count": 140,
     "metadata": {},
     "output_type": "execute_result"
    }
   ],
   "source": [
    "np.unique(y_test, return_counts=True)"
   ]
  },
  {
   "cell_type": "code",
   "execution_count": 6,
   "id": "23c00a3d",
   "metadata": {},
   "outputs": [
    {
     "name": "stdout",
     "output_type": "stream",
     "text": [
      "===== Train & Test Data =====\n",
      "X train shape:(100000, 18)\n",
      "y train shape:(100000,)\n",
      "X test shape:(50000, 18)\n",
      "y test shape:(50000,)\n",
      "=============================\n",
      "\n"
     ]
    }
   ],
   "source": [
    "print('===== Train & Test Data =====')\n",
    "print(f'X train shape:{X_train.shape}')\n",
    "print(f'y train shape:{y_train.shape}')\n",
    "print(f'X test shape:{X_test.shape}')\n",
    "print(f'y test shape:{y_test.shape}')\n",
    "print('=============================\\n')"
   ]
  },
  {
   "cell_type": "code",
   "execution_count": 7,
   "id": "f6f4962f",
   "metadata": {},
   "outputs": [],
   "source": [
    "def split_seeds(init_size, pool_size, X_train, y_train):\n",
    "    n_labeled_examples = X_train.shape[0]\n",
    "\n",
    "    # Pick Init Seed\n",
    "    training_indices = np.random.randint(low=0, high=n_labeled_examples, size=init_size)\n",
    "    X_init = X_train[training_indices]\n",
    "    y_init = y_train[training_indices]\n",
    "\n",
    "    # Delete the init from Train and store in Pool\n",
    "    X_pool = np.delete(X_train, training_indices, axis=0)\n",
    "    y_pool = np.delete(y_train, training_indices, axis=0)\n",
    "\n",
    "    # Pick Pool \n",
    "    current_pool_size = X_pool.shape[0]\n",
    "    pool_indices = np.random.randint(low=0, high=current_pool_size, size=pool_size)\n",
    "    X_pool = X_pool[pool_indices]\n",
    "    y_pool = y_pool[pool_indices]\n",
    "\n",
    "    print('===== Init & Pool Seed =====')\n",
    "    print(f'X init shape:{X_init.shape}')\n",
    "    print(f'y init shape:{y_init.shape}')\n",
    "    print(f'X pool shape:{X_pool.shape}')\n",
    "    print(f'y pool shape:{y_pool.shape}')\n",
    "    print('============================\\n')\n",
    "\n",
    "    return X_init, y_init, X_pool, y_pool"
   ]
  },
  {
   "cell_type": "code",
   "execution_count": 11,
   "id": "c9479b8f",
   "metadata": {},
   "outputs": [],
   "source": [
    "def active_learning(X_init, y_init, X_pool, y_pool, X_test, y_test):\n",
    "    print('===== Active Learning =====')\n",
    "\n",
    "    clf = rf()\n",
    "    learner = ActiveLearner(estimator=clf, X_training=X_init, y_training=y_init)\n",
    "\n",
    "    predictions = learner.predict(X_test)\n",
    "    predictions_history = [predictions]\n",
    "    accuracy = learner.score(X_test, y_test)\n",
    "    accuracy_history = [accuracy]\n",
    "    for index in range(QUERY_NUM):\n",
    "        query_index, query_instance = learner.query(X_pool)\n",
    "\n",
    "        X, y = X_pool[query_index].reshape(1, -1), y_pool[query_index].reshape(1, )\n",
    "        learner.teach(X=X, y=y)\n",
    "\n",
    "        # Remove the queried instance from the unlabeled pool\n",
    "        X_pool, y_pool = np.delete(X_pool, query_index, axis=0), np.delete(y_pool, query_index)\n",
    "\n",
    "        predictions = learner.predict(X_test)\n",
    "        predictions_history.append(predictions)\n",
    "        accuracy = learner.score(X_test, y_test)\n",
    "        accuracy_history.append(accuracy)\n",
    "        print(f'Query:{index+1} Accuracy:{accuracy}')\n",
    "    print('==========================\\n')\n",
    "    return predictions_history"
   ]
  },
  {
   "cell_type": "code",
   "execution_count": 12,
   "id": "b4139b02",
   "metadata": {
    "scrolled": true
   },
   "outputs": [
    {
     "name": "stdout",
     "output_type": "stream",
     "text": [
      "===== Init & Pool Seed =====\n",
      "X init shape:(10, 18)\n",
      "y init shape:(10,)\n",
      "X pool shape:(17, 18)\n",
      "y pool shape:(17,)\n",
      "============================\n",
      "\n",
      "===== Active Learning =====\n",
      "Query:1 Accuracy:0.70172\n",
      "Query:2 Accuracy:0.82804\n",
      "Query:3 Accuracy:0.8188\n",
      "Query:4 Accuracy:0.8532\n",
      "Query:5 Accuracy:0.88724\n",
      "==========================\n",
      "\n",
      "===== Init & Pool Seed =====\n",
      "X init shape:(10, 18)\n",
      "y init shape:(10,)\n",
      "X pool shape:(18, 18)\n",
      "y pool shape:(18,)\n",
      "============================\n",
      "\n",
      "===== Active Learning =====\n",
      "Query:1 Accuracy:0.86368\n",
      "Query:2 Accuracy:0.87974\n",
      "Query:3 Accuracy:0.86964\n",
      "Query:4 Accuracy:0.88984\n",
      "Query:5 Accuracy:0.86558\n",
      "==========================\n",
      "\n",
      "===== Init & Pool Seed =====\n",
      "X init shape:(10, 18)\n",
      "y init shape:(10,)\n",
      "X pool shape:(17, 18)\n",
      "y pool shape:(17,)\n",
      "============================\n",
      "\n",
      "===== Active Learning =====\n",
      "Query:1 Accuracy:0.77094\n",
      "Query:2 Accuracy:0.85238\n",
      "Query:3 Accuracy:0.92834\n",
      "Query:4 Accuracy:0.94632\n",
      "Query:5 Accuracy:0.9518\n",
      "==========================\n",
      "\n",
      "===== Init & Pool Seed =====\n",
      "X init shape:(10, 18)\n",
      "y init shape:(10,)\n",
      "X pool shape:(18, 18)\n",
      "y pool shape:(18,)\n",
      "============================\n",
      "\n",
      "===== Active Learning =====\n",
      "Query:1 Accuracy:0.78594\n",
      "Query:2 Accuracy:0.93062\n",
      "Query:3 Accuracy:0.93222\n",
      "Query:4 Accuracy:0.9617\n",
      "Query:5 Accuracy:0.95682\n",
      "==========================\n",
      "\n",
      "[[[2 2 3 ... 1 2 2]\n",
      "  [2 2 3 ... 1 2 2]\n",
      "  [2 0 3 ... 1 2 2]\n",
      "  [2 0 3 ... 1 2 2]\n",
      "  [2 0 3 ... 1 2 2]\n",
      "  [2 0 3 ... 1 2 0]]\n",
      "\n",
      " [[2 0 3 ... 1 2 0]\n",
      "  [2 0 3 ... 1 2 0]\n",
      "  [2 0 3 ... 1 2 0]\n",
      "  [2 0 3 ... 1 2 0]\n",
      "  [2 0 3 ... 1 2 0]\n",
      "  [2 0 3 ... 1 2 0]]\n",
      "\n",
      " [[0 0 0 ... 0 2 0]\n",
      "  [0 0 0 ... 1 2 0]\n",
      "  [0 0 0 ... 1 2 0]\n",
      "  [2 0 3 ... 1 2 0]\n",
      "  [2 0 0 ... 1 2 0]\n",
      "  [2 0 0 ... 1 2 0]]\n",
      "\n",
      " [[0 0 3 ... 1 0 0]\n",
      "  [0 0 0 ... 1 0 0]\n",
      "  [2 0 0 ... 1 2 0]\n",
      "  [2 0 0 ... 1 2 0]\n",
      "  [2 0 0 ... 1 2 0]\n",
      "  [2 0 3 ... 1 2 0]]]\n",
      "(4, 6, 50000)\n",
      "===== Init & Pool Seed =====\n",
      "X init shape:(15, 18)\n",
      "y init shape:(15,)\n",
      "X pool shape:(17, 18)\n",
      "y pool shape:(17,)\n",
      "============================\n",
      "\n",
      "===== Active Learning =====\n",
      "Query:1 Accuracy:0.93798\n",
      "Query:2 Accuracy:0.93784\n",
      "Query:3 Accuracy:0.93974\n",
      "Query:4 Accuracy:0.94962\n",
      "Query:5 Accuracy:0.94434\n",
      "==========================\n",
      "\n",
      "===== Init & Pool Seed =====\n",
      "X init shape:(15, 18)\n",
      "y init shape:(15,)\n",
      "X pool shape:(18, 18)\n",
      "y pool shape:(18,)\n",
      "============================\n",
      "\n",
      "===== Active Learning =====\n",
      "Query:1 Accuracy:0.90856\n",
      "Query:2 Accuracy:0.96128\n",
      "Query:3 Accuracy:0.9501\n",
      "Query:4 Accuracy:0.94586\n",
      "Query:5 Accuracy:0.9281\n",
      "==========================\n",
      "\n",
      "===== Init & Pool Seed =====\n",
      "X init shape:(15, 18)\n",
      "y init shape:(15,)\n",
      "X pool shape:(17, 18)\n",
      "y pool shape:(17,)\n",
      "============================\n",
      "\n",
      "===== Active Learning =====\n",
      "Query:1 Accuracy:0.80948\n",
      "Query:2 Accuracy:0.87782\n",
      "Query:3 Accuracy:0.87488\n",
      "Query:4 Accuracy:0.93696\n",
      "Query:5 Accuracy:0.93812\n",
      "==========================\n",
      "\n",
      "===== Init & Pool Seed =====\n",
      "X init shape:(15, 18)\n",
      "y init shape:(15,)\n",
      "X pool shape:(18, 18)\n",
      "y pool shape:(18,)\n",
      "============================\n",
      "\n",
      "===== Active Learning =====\n",
      "Query:1 Accuracy:0.94936\n",
      "Query:2 Accuracy:0.92358\n",
      "Query:3 Accuracy:0.93382\n",
      "Query:4 Accuracy:0.92992\n",
      "Query:5 Accuracy:0.93908\n",
      "==========================\n",
      "\n",
      "[[[2 0 0 ... 1 2 0]\n",
      "  [2 0 0 ... 1 2 0]\n",
      "  [2 0 0 ... 1 2 0]\n",
      "  [2 0 0 ... 1 2 0]\n",
      "  [2 0 0 ... 1 2 0]\n",
      "  [2 0 0 ... 1 2 0]]\n",
      "\n",
      " [[2 0 0 ... 1 2 0]\n",
      "  [2 0 0 ... 1 2 0]\n",
      "  [2 0 0 ... 1 2 0]\n",
      "  [2 0 0 ... 1 2 0]\n",
      "  [2 0 0 ... 1 2 0]\n",
      "  [2 0 0 ... 1 2 0]]\n",
      "\n",
      " [[2 0 0 ... 1 2 3]\n",
      "  [2 0 0 ... 1 2 3]\n",
      "  [2 0 0 ... 1 2 0]\n",
      "  [2 0 0 ... 1 2 3]\n",
      "  [2 0 0 ... 1 2 0]\n",
      "  [2 0 0 ... 1 2 0]]\n",
      "\n",
      " [[2 0 0 ... 0 2 0]\n",
      "  [2 0 0 ... 1 2 0]\n",
      "  [2 0 0 ... 1 2 0]\n",
      "  [2 0 0 ... 1 2 0]\n",
      "  [2 0 0 ... 1 2 0]\n",
      "  [2 0 0 ... 1 2 0]]]\n",
      "(4, 6, 50000)\n"
     ]
    }
   ],
   "source": [
    "for init_size in INIT_SEED_PATTERN:\n",
    "\n",
    "    history = []\n",
    "    for r in range(REPEAT):\n",
    "        for pool_size in POOL_SIZE_PATTERN:\n",
    "            X_init, y_init, X_pool, y_pool = split_seeds(init_size, pool_size, X_train, y_train)\n",
    "            history.append(active_learning(X_init, y_init, X_pool, y_pool, X_test, y_test))\n",
    "    \n",
    "    # Save Result for every init pattern\n",
    "    history = np.array(history)\n",
    "    print(history)\n",
    "    print(history.shape)"
   ]
  },
  {
   "cell_type": "markdown",
   "id": "2c377500",
   "metadata": {},
   "source": [
    "## Evaluation"
   ]
  },
  {
   "cell_type": "code",
   "execution_count": 21,
   "id": "25c9b08e",
   "metadata": {},
   "outputs": [
    {
     "data": {
      "text/plain": [
       "(4, 6, 50000)"
      ]
     },
     "execution_count": 21,
     "metadata": {},
     "output_type": "execute_result"
    }
   ],
   "source": [
    "history.shape"
   ]
  },
  {
   "cell_type": "code",
   "execution_count": 141,
   "id": "0c76d50f",
   "metadata": {},
   "outputs": [],
   "source": [
    "file = open('./result_pickles/test_run/uncert_5_times/10_init/', 'rb')\n",
    "result = pickle.load(file)"
   ]
  },
  {
   "cell_type": "code",
   "execution_count": 142,
   "id": "d507f629",
   "metadata": {
    "scrolled": true
   },
   "outputs": [
    {
     "data": {
      "text/plain": [
       "(3, 11, 5)"
      ]
     },
     "execution_count": 142,
     "metadata": {},
     "output_type": "execute_result"
    }
   ],
   "source": [
    "result.shape"
   ]
  },
  {
   "cell_type": "code",
   "execution_count": 151,
   "id": "114caa62",
   "metadata": {},
   "outputs": [],
   "source": [
    "QUERY_NUM = 1000\n",
    "REPEAT = 5\n",
    "INIT_SEED_PATTERN = [2, 10, 40, 200]\n",
    "POOL_SIZE_PATTERN = [1000, 3000, 5000, 7000, 9000, 15000, 50000, 100000]\n",
    "DIR_NAME = './result_pickles/test_run/uncert_5_times/*'"
   ]
  },
  {
   "cell_type": "code",
   "execution_count": 167,
   "id": "8801cb47",
   "metadata": {},
   "outputs": [],
   "source": [
    "QUERY_NUM = 10\n",
    "REPEAT = 3\n",
    "INIT_SEED_PATTERN = [10, 15]\n",
    "POOL_SIZE_PATTERN = [17, 18, 19, 20]"
   ]
  },
  {
   "cell_type": "code",
   "execution_count": 187,
   "id": "ff7e2d64",
   "metadata": {},
   "outputs": [],
   "source": [
    "def getAvg(result):\n",
    "    pool_result = []\n",
    "    for i in range(QUERY_NUM + 1):\n",
    "        avg = 0\n",
    "        for p in range(REPEAT):\n",
    "            avg += result[p][i][4]\n",
    "        avg /= REPEAT\n",
    "        pool_result.append(avg)\n",
    "    return pool_result"
   ]
  },
  {
   "cell_type": "code",
   "execution_count": 189,
   "id": "46abd694",
   "metadata": {},
   "outputs": [
    {
     "name": "stdout",
     "output_type": "stream",
     "text": [
      "Loading ./result_pickles/test_run/uncert_5_times/10_init/10_init_17_pool.pkl ...\n",
      "11\n",
      "Loading ./result_pickles/test_run/uncert_5_times/10_init/10_init_18_pool.pkl ...\n",
      "11\n",
      "Loading ./result_pickles/test_run/uncert_5_times/10_init/10_init_19_pool.pkl ...\n",
      "11\n",
      "Loading ./result_pickles/test_run/uncert_5_times/10_init/10_init_20_pool.pkl ...\n",
      "11\n",
      "Next Init ...\n",
      "Loading ./result_pickles/test_run/uncert_5_times/15_init/15_init_17_pool.pkl ...\n",
      "11\n",
      "Loading ./result_pickles/test_run/uncert_5_times/15_init/15_init_18_pool.pkl ...\n",
      "11\n",
      "Loading ./result_pickles/test_run/uncert_5_times/15_init/15_init_19_pool.pkl ...\n",
      "11\n",
      "Loading ./result_pickles/test_run/uncert_5_times/15_init/15_init_20_pool.pkl ...\n",
      "11\n",
      "Next Init ...\n"
     ]
    }
   ],
   "source": [
    "for init_size in INIT_SEED_PATTERN:\n",
    "    for pool_size in POOL_SIZE_PATTERN:\n",
    "        target = DIR_NAME + f'{init_size}*/*{pool_size}*'\n",
    "        file_name = glob.glob(target)[0]\n",
    "        print(f'Loading {file_name} ...')\n",
    "        with open(file_name, 'rb') as f:\n",
    "            rs = pickle.load(f)\n",
    "            tmp = getAvg(rs)\n",
    "            print(len(tmp))\n",
    "            \n",
    "            \n",
    "    print('Next Init ...')"
   ]
  },
  {
   "cell_type": "code",
   "execution_count": null,
   "id": "bd40033c",
   "metadata": {},
   "outputs": [],
   "source": []
  }
 ],
 "metadata": {
  "kernelspec": {
   "display_name": "Python 3 (ipykernel)",
   "language": "python",
   "name": "python3"
  },
  "language_info": {
   "codemirror_mode": {
    "name": "ipython",
    "version": 3
   },
   "file_extension": ".py",
   "mimetype": "text/x-python",
   "name": "python",
   "nbconvert_exporter": "python",
   "pygments_lexer": "ipython3",
   "version": "3.8.10"
  }
 },
 "nbformat": 4,
 "nbformat_minor": 5
}
