{
 "cells": [
  {
   "cell_type": "markdown",
   "id": "7e8a9931",
   "metadata": {},
   "source": [
    "# Active Learning Notebook"
   ]
  },
  {
   "cell_type": "code",
   "execution_count": 1,
   "id": "3c945e37",
   "metadata": {},
   "outputs": [],
   "source": [
    "import random\n",
    "import matplotlib as mpl\n",
    "import matplotlib.pyplot as plt\n",
    "import numpy as np\n",
    "import pandas as pd\n",
    "import pickle\n",
    "\n",
    "from sklearn.model_selection import train_test_split\n",
    "from sklearn.metrics import accuracy_score\n",
    "from sklearn.ensemble import RandomForestClassifier as rf\n",
    "\n",
    "from modAL.models import ActiveLearner\n",
    "from modAL.uncertainty import uncertainty_sampling"
   ]
  },
  {
   "cell_type": "markdown",
   "id": "c9235447",
   "metadata": {},
   "source": [
    "## Init config"
   ]
  },
  {
   "cell_type": "code",
   "execution_count": 2,
   "id": "8f90a23a",
   "metadata": {},
   "outputs": [],
   "source": [
    "filename = './df_pickles/df_150000_20.pkl'\n",
    "multiclass = True"
   ]
  },
  {
   "cell_type": "markdown",
   "id": "d53f7d86",
   "metadata": {},
   "source": [
    "## Data Pre-processing"
   ]
  },
  {
   "cell_type": "code",
   "execution_count": 3,
   "id": "2beb0d04",
   "metadata": {},
   "outputs": [],
   "source": [
    "df = pd.read_pickle(filename)\n",
    "X = df.iloc[:,:df.shape[1]-2]\n",
    "y = df.iloc[:,df.shape[1]-1]"
   ]
  },
  {
   "cell_type": "code",
   "execution_count": 4,
   "id": "10061cc8",
   "metadata": {},
   "outputs": [],
   "source": [
    "if multiclass == False:\n",
    "    y = y.replace([2,3],1)"
   ]
  },
  {
   "cell_type": "code",
   "execution_count": 5,
   "id": "7fd408b4",
   "metadata": {},
   "outputs": [],
   "source": [
    "X_train, X_test, y_train, y_test = train_test_split(X.to_numpy(),\n",
    "                                                    y.to_numpy(),\n",
    "                                                    test_size=0.30,\n",
    "                                                    stratify=y,\n",
    "                                                    random_state=77)"
   ]
  },
  {
   "cell_type": "code",
   "execution_count": 6,
   "id": "23c00a3d",
   "metadata": {},
   "outputs": [
    {
     "name": "stdout",
     "output_type": "stream",
     "text": [
      "X train shape:(105000, 18)\n",
      "y train shape:(105000,)\n",
      "X test shape:(45000, 18)\n",
      "y test shape:(45000,)\n"
     ]
    }
   ],
   "source": [
    "print(f'X train shape:{X_train.shape}')\n",
    "print(f'y train shape:{y_train.shape}')\n",
    "print(f'X test shape:{X_test.shape}')\n",
    "print(f'y test shape:{y_test.shape}')"
   ]
  },
  {
   "cell_type": "code",
   "execution_count": 7,
   "id": "13ca5012",
   "metadata": {},
   "outputs": [],
   "source": [
    "# Isolate our examples for our labeled dataset.\n",
    "n_labeled_examples = X_train.shape[0]\n",
    "training_indices = np.random.randint(low=0,\n",
    "                                     high=n_labeled_examples + 1,\n",
    "                                     size=100)"
   ]
  },
  {
   "cell_type": "code",
   "execution_count": 8,
   "id": "94017ffa",
   "metadata": {},
   "outputs": [],
   "source": [
    "# Initial Seed\n",
    "X_init = X_train[training_indices]\n",
    "y_init = y_train[training_indices]"
   ]
  },
  {
   "cell_type": "code",
   "execution_count": 9,
   "id": "dffecfac",
   "metadata": {},
   "outputs": [],
   "source": [
    "# Pool\n",
    "# Delete same\n",
    "X_pool = np.delete(X_train, training_indices, axis=0)\n",
    "y_pool = np.delete(y_train, training_indices, axis=0)\n",
    "\n",
    "# Make Pool\n",
    "n_labeled_examples = X_pool.shape[0]\n",
    "pool_indices = np.random.randint(low=0, high=n_labeled_examples + 1, size=10000)\n",
    "X_pool = X_pool[pool_indices]\n",
    "y_pool = y_pool[pool_indices]"
   ]
  },
  {
   "cell_type": "code",
   "execution_count": 10,
   "id": "a06bfba5",
   "metadata": {},
   "outputs": [
    {
     "name": "stdout",
     "output_type": "stream",
     "text": [
      "X init shape:(100, 18)\n",
      "y init shape:(100,)\n",
      "X pool shape:(10000, 18)\n",
      "y pool shape:(10000,)\n"
     ]
    }
   ],
   "source": [
    "print(f'X init shape:{X_init.shape}')\n",
    "print(f'y init shape:{y_init.shape}')\n",
    "print(f'X pool shape:{X_pool.shape}')\n",
    "print(f'y pool shape:{y_pool.shape}')"
   ]
  },
  {
   "cell_type": "code",
   "execution_count": null,
   "id": "e3bdcb6e",
   "metadata": {},
   "outputs": [],
   "source": [
    "rf = rf()\n",
    "learner = ActiveLearner(estimator=rf, X_training=X_init, y_training=y_init)"
   ]
  },
  {
   "cell_type": "code",
   "execution_count": null,
   "id": "9831967e",
   "metadata": {},
   "outputs": [],
   "source": [
    "predictions = learner.predict(X_test)"
   ]
  },
  {
   "cell_type": "code",
   "execution_count": null,
   "id": "fbfe504f",
   "metadata": {},
   "outputs": [],
   "source": [
    "init_score = learner.score(X_test, y_test)\n",
    "print(f'Initial Score: {init_score}')"
   ]
  },
  {
   "cell_type": "code",
   "execution_count": null,
   "id": "b4139b02",
   "metadata": {},
   "outputs": [],
   "source": [
    "init_size = 100\n",
    "n_labeled_examples = X_train.shape[0]\n",
    "training_indices = np.random.randint(low=0, high=n_labeled_examples + 1, size=init_size)\n",
    "\n",
    "# Initial \n",
    "X_init = X_train[training_indices]\n",
    "y_init = y_train[training_indices]\n",
    "\n",
    "# Pool (Unlabled)\n",
    "X_pool = np.delete(X_train, training_indices, axis=0)\n",
    "y_pool = np.delete(y_train, training_indices, axis=0)\n",
    "\n",
    "print(f'X init shape:{X_init.shape}')\n",
    "print(f'y init shape:{y_init.shape}')\n",
    "print(f'X pool shape:{X_pool.shape}')\n",
    "print(f'y pool shape:{y_pool.shape}')\n",
    "\n",
    "clf = rf()\n",
    "learner = ActiveLearner(estimator=clf, X_training=X_init, y_training=y_init)\n",
    "\n",
    "predictions = learner.predict(X_test)\n",
    "\n",
    "init_score = learner.score(X_test, y_test)\n",
    "print(f'Initial Score:{init_score}')\n",
    "\n",
    "performance_history = [init_score]\n",
    "\n",
    "# Allow our model to query our unlabeled dataset for the most\n",
    "# informative points according to our query strategy (uncertainty sampling).\n",
    "for index in range(1000):\n",
    "    query_index, query_instance = learner.query(X_pool)\n",
    "\n",
    "    # Teach our ActiveLearner model the record it has requested.\n",
    "    X, y = X_pool[query_index].reshape(1, -1), y_pool[query_index].reshape(1, )\n",
    "    learner.teach(X=X, y=y)\n",
    "\n",
    "    # Remove the queried instance from the unlabeled pool.\n",
    "    X_pool, y_pool = np.delete(X_pool, query_index, axis=0), np.delete(y_pool, query_index)\n",
    "\n",
    "    # Calculate and report our model's accuracy.\n",
    "    model_accuracy = learner.score(X_test, y_test)\n",
    "    print('Accuracy after query {n}: {acc:0.4f}'.format(n=index + 1, acc=model_accuracy))\n",
    "\n",
    "    # Save our model's performance for plotting.\n",
    "    performance_history.append(model_accuracy)\n",
    "\n",
    "file_name = str(init_size)+'_uncert.pkl'\n",
    "file = open(file_name, 'wb')\n",
    "pickle.dump(performance_history, file)\n",
    "file.close()"
   ]
  }
 ],
 "metadata": {
  "kernelspec": {
   "display_name": "Python 3 (ipykernel)",
   "language": "python",
   "name": "python3"
  },
  "language_info": {
   "codemirror_mode": {
    "name": "ipython",
    "version": 3
   },
   "file_extension": ".py",
   "mimetype": "text/x-python",
   "name": "python",
   "nbconvert_exporter": "python",
   "pygments_lexer": "ipython3",
   "version": "3.8.10"
  }
 },
 "nbformat": 4,
 "nbformat_minor": 5
}
